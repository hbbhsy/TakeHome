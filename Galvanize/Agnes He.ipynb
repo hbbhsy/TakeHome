{
 "cells": [
  {
   "cell_type": "markdown",
   "metadata": {},
   "source": [
    "Q1 "
   ]
  },
  {
   "cell_type": "code",
   "execution_count": 1,
   "metadata": {},
   "outputs": [],
   "source": [
    "def nth_prime(n):\n",
    "    \"\"\"\n",
    "    This function will take in an integer n and return the nth prime number.\n",
    "    \n",
    "    :param n: the n-th index\n",
    "    :type n: int\n",
    "    :return: the n-th prime number\n",
    "    :rtype: int\n",
    "    \"\"\"\n",
    "    total_primes = 0\n",
    "    size_factor = 2\n",
    "    s = n* size_factor\n",
    "    while total_primes < n:\n",
    "        primes = get_primes(s)\n",
    "        total_primes = sum(primes[2:])\n",
    "        size_factor += 1\n",
    "        s = n * size_factor\n",
    "    return count_primes(primes, n)\n",
    "\n",
    "def get_primes(s):\n",
    "    \"\"\"\n",
    "    Generats primes using the Sieve of Eratosthenes\n",
    "    Includes the optimization where for every prime p, only factors p >= p^2 are verified.\n",
    "    \n",
    "    :param s: approximate size of the list of primes\n",
    "    :type s: int\n",
    "    :return: The list of primes, which is represented with a bytearray. \n",
    "             Each index corresponds to an integer in the list. \n",
    "             A value of '1' at the index location indicates the integer is a prime.\n",
    "    :rtype: bytearray    \n",
    "    \"\"\"\n",
    "    primes = bytearray([1] * s)\n",
    "    for i in range(2, s):\n",
    "        for j in range(i, s):\n",
    "            if i*j < s:\n",
    "                primes[i * j] = 0\n",
    "            else:\n",
    "                break\n",
    "    return primes\n",
    "\n",
    "def count_primes(primes, n):\n",
    "    \"\"\"\n",
    "    Returns the n-th prime represented by the index of the n-th '1' in the bytearray.\n",
    "    \n",
    "    :param primes: a list of prime numbers\n",
    "    :type primes: list of int\n",
    "    :param n: the n-th index\n",
    "    :return the n-th prime\n",
    "    :rtype: int\n",
    "    \"\"\"\n",
    "    count = 0\n",
    "    for k in range(2, len(primes)):\n",
    "        count += primes[k]\n",
    "        if count == n:\n",
    "            return k"
   ]
  },
  {
   "cell_type": "code",
   "execution_count": 2,
   "metadata": {},
   "outputs": [
    {
     "data": {
      "text/plain": [
       "104743"
      ]
     },
     "execution_count": 2,
     "metadata": {},
     "output_type": "execute_result"
    }
   ],
   "source": [
    "nth_prime(10001)"
   ]
  },
  {
   "cell_type": "markdown",
   "metadata": {},
   "source": [
    "Q2."
   ]
  },
  {
   "cell_type": "code",
   "execution_count": 3,
   "metadata": {},
   "outputs": [],
   "source": [
    "def route_count(grid_size):\n",
    "    \"\"\"\n",
    "    This function will take the size of a square grid and return the number of routes from top left to down right.\n",
    "    \n",
    "    :param grid_size: the size of the square grid\n",
    "    :type grid_size: int\n",
    "    :return: how many routes can go through the grid from top left to down right.\n",
    "    :rtype: int\n",
    "    \"\"\"\n",
    "    L = [1] * grid_size\n",
    "    \n",
    "    for i in range(grid_size):\n",
    "        for j in range(i):\n",
    "            L[j] = L[j]+L[j-1]\n",
    "        L[i] = 2 * L[i - 1]\n",
    "    return L[grid_size - 1]"
   ]
  },
  {
   "cell_type": "code",
   "execution_count": 4,
   "metadata": {},
   "outputs": [
    {
     "name": "stdout",
     "output_type": "stream",
     "text": [
      "A route is starting in the top left corner and move to the down right corner. \n",
      "There are 137846528820 such routes are there through a 20 x 20 grid.\n"
     ]
    }
   ],
   "source": [
    "print(\"A route is starting in the top left corner and move to the down right corner. \\n\"\n",
    "       + \"There are {} such routes are there through a 20 x 20 grid.\".format(route_count(20)))"
   ]
  },
  {
   "cell_type": "markdown",
   "metadata": {},
   "source": [
    "Q3."
   ]
  },
  {
   "cell_type": "code",
   "execution_count": 5,
   "metadata": {},
   "outputs": [],
   "source": [
    "def pig_latin(s):\n",
    "    \"\"\"\n",
    "    Return the converted pig latin of a given word. If the word starts with a consonant, \n",
    "    move the consonant to the end of the word and add 'ay'. If a word begins\n",
    "    with a vowel, keep the vowel in place and add 'yay' to the end of the word.\n",
    "    \n",
    "    :param s: a word\n",
    "    :type s: string\n",
    "    :return: the pig latin of the word.\n",
    "    :rtype: string\n",
    "    \"\"\"\n",
    "    vowel = ['a', 'e', 'i', 'o', 'u']\n",
    "    if s[0] not in vowel:\n",
    "        return s[1:] + s[0] + 'ey'\n",
    "    elif s[0] in vowel:\n",
    "        return s[0:] + 'yey'"
   ]
  },
  {
   "cell_type": "code",
   "execution_count": 6,
   "metadata": {},
   "outputs": [
    {
     "data": {
      "text/plain": [
       "'atscey'"
      ]
     },
     "execution_count": 6,
     "metadata": {},
     "output_type": "execute_result"
    }
   ],
   "source": [
    "pig_latin('cats')"
   ]
  },
  {
   "cell_type": "markdown",
   "metadata": {},
   "source": [
    "Q4."
   ]
  },
  {
   "cell_type": "code",
   "execution_count": 7,
   "metadata": {},
   "outputs": [
    {
     "data": {
      "text/plain": [
       "a    12.333333\n",
       "b    19.000000\n",
       "c    12.000000\n",
       "dtype: float64"
      ]
     },
     "execution_count": 7,
     "metadata": {},
     "output_type": "execute_result"
    }
   ],
   "source": [
    "import numpy as np\n",
    "import pandas as pd\n",
    "\n",
    "# Create a DataFrame with three columns and three rows and fill the DataFrame randomly between 1 and 25 inclusive.\n",
    "df = pd.DataFrame(data=np.random.randint(1,26, size=(3,3)),columns=['a','b','c'])\n",
    "# Get the mean of each column\n",
    "df.mean()"
   ]
  },
  {
   "cell_type": "markdown",
   "metadata": {},
   "source": [
    "Q5."
   ]
  },
  {
   "cell_type": "code",
   "execution_count": 8,
   "metadata": {},
   "outputs": [],
   "source": [
    "def subset_df(df, column, s, n):\n",
    "    \"\"\"\n",
    "    Return a subset of the Data Frame based on the column name, the string option and the value.\n",
    "    \n",
    "    :param df: the original DataFrame \n",
    "    :type df: pandas DataFrame\n",
    "    :param column: the column name\n",
    "    :type column: string or int\n",
    "    :param s: option string, option includes: 'gt', 'lt', 'ge', 'le'\n",
    "    :type s: string\n",
    "    :param n: value to compare with\n",
    "    :type n: int\n",
    "    :return: a subset of the DataFrame based on the conditions\n",
    "    :rtype: pandas DataFrame\n",
    "\n",
    "    \"\"\"\n",
    "    if s == 'gt':\n",
    "        return df.loc[df[column] > n]\n",
    "    elif s == 'lt':\n",
    "        return df.loc[df[column] < n]\n",
    "    elif s == 'ge':\n",
    "        return df.loc[df[column] >= n]\n",
    "    elif s == 'le':\n",
    "        return df.loc[df[column] <= n]\n",
    "    else:\n",
    "        print(\"There is no {} option.\".format(s))"
   ]
  },
  {
   "cell_type": "code",
   "execution_count": 9,
   "metadata": {
    "scrolled": true
   },
   "outputs": [
    {
     "data": {
      "text/html": [
       "<div>\n",
       "<style scoped>\n",
       "    .dataframe tbody tr th:only-of-type {\n",
       "        vertical-align: middle;\n",
       "    }\n",
       "\n",
       "    .dataframe tbody tr th {\n",
       "        vertical-align: top;\n",
       "    }\n",
       "\n",
       "    .dataframe thead th {\n",
       "        text-align: right;\n",
       "    }\n",
       "</style>\n",
       "<table border=\"1\" class=\"dataframe\">\n",
       "  <thead>\n",
       "    <tr style=\"text-align: right;\">\n",
       "      <th></th>\n",
       "      <th>a</th>\n",
       "      <th>b</th>\n",
       "      <th>c</th>\n",
       "    </tr>\n",
       "  </thead>\n",
       "  <tbody>\n",
       "    <tr>\n",
       "      <th>2</th>\n",
       "      <td>23</td>\n",
       "      <td>24</td>\n",
       "      <td>17</td>\n",
       "    </tr>\n",
       "  </tbody>\n",
       "</table>\n",
       "</div>"
      ],
      "text/plain": [
       "    a   b   c\n",
       "2  23  24  17"
      ]
     },
     "execution_count": 9,
     "metadata": {},
     "output_type": "execute_result"
    }
   ],
   "source": [
    "subset_df(df,'a','gt',11)"
   ]
  },
  {
   "cell_type": "markdown",
   "metadata": {},
   "source": [
    "Q6."
   ]
  },
  {
   "cell_type": "code",
   "execution_count": 10,
   "metadata": {},
   "outputs": [
    {
     "data": {
      "image/png": "[encoded data removed]",
      "text/plain": [
       "<Figure size 864x864 with 1 Axes>"
      ]
     },
     "metadata": {
      "needs_background": "light"
     },
     "output_type": "display_data"
    }
   ],
   "source": [
    "import matplotlib.pyplot as plt\n",
    "\n",
    "# Load the data\n",
    "fruit_df = pd.read_excel('data/Fruit Data.xlsx')\n",
    "\n",
    "# Plot\n",
    "fig, ax = plt.subplots(figsize=(12,12))\n",
    "subtypes = fruit_df['fruit_subtype'].unique()\n",
    "for s in subtypes:\n",
    "    ax.plot(fruit_df['height'], fruit_df['width'], marker='x', linestyle='', label=s, alpha=0.5)\n",
    "ax.set_xlabel(\"height\")\n",
    "ax.set_ylabel('width')\n",
    "ax.legend()\n",
    "plt.show()"
   ]
  },
  {
   "cell_type": "markdown",
   "metadata": {},
   "source": [
    "Q7.\n",
    "\n",
    "In SQL, order of operation is also know as the order of execution, for a sql query, the order of operation is as following:\n",
    "* FROM, including JOINs\n",
    "* WHERE\n",
    "* GROUP BY\n",
    "* HAVING\n",
    "* WINDOW functions\n",
    "* SELECT\n",
    "* DISTINCT\n",
    "* UNION\n",
    "* ORDER BY\n",
    "* LIMIT and OFFSET\n",
    "\n",
    "Where the sql query may be written in the following order:\n",
    "* SELECT DISTINCT <TOP_specification> <select_list>\n",
    "* FROM <left_table>\n",
    "* <join_type> JOIN <right_table>\n",
    "* ON <join_condition>\n",
    "* WHERE <where_condition>\n",
    "* GROUP BY <group_by_list>\n",
    "* HAVING <having_condition>\n",
    "* ORDER BY <order_by_list>\n",
    "* LIMIT\n",
    "\n"
   ]
  },
  {
   "cell_type": "markdown",
   "metadata": {},
   "source": [
    "Q8."
   ]
  },
  {
   "cell_type": "code",
   "execution_count": 11,
   "metadata": {},
   "outputs": [],
   "source": [
    "query = \"\"\"SELECT a.WORKER_ID, FIRST_NAME,LAST_NAME,SALARY,DEPARTMENT, TITLE \n",
    "            FROM WORKER A \n",
    "            LEFT JOIN TITLE B\n",
    "            ON A.WORKER_ID = B.WORKER_REF_ID\n",
    "            WHERE WORKER_TITLE NOT LIKE '%MANAGER%'\n",
    "            ORDER BY SALARY DESC；\"\"\""
   ]
  }
 ],
 "metadata": {
  "kernelspec": {
   "display_name": "Python 3",
   "language": "python",
   "name": "python3"
  },
  "language_info": {
   "codemirror_mode": {
    "name": "ipython",
    "version": 3
   },
   "file_extension": ".py",
   "mimetype": "text/x-python",
   "name": "python",
   "nbconvert_exporter": "python",
   "pygments_lexer": "ipython3",
   "version": "3.7.6"
  }
 },
 "nbformat": 4,
 "nbformat_minor": 4
}
