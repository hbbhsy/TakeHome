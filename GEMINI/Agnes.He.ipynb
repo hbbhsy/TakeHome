{
 "cells": [
  {
   "cell_type": "code",
   "execution_count": 1,
   "metadata": {},
   "outputs": [],
   "source": [
    "import numpy as np\n",
    "import pandas as pd"
   ]
  },
  {
   "cell_type": "markdown",
   "metadata": {},
   "source": [
    "## Q1"
   ]
  },
  {
   "cell_type": "code",
   "execution_count": 2,
   "metadata": {},
   "outputs": [],
   "source": [
    "admissions_surg = pd.read_csv('admissions_surg.csv')\n",
    "admissions_med = pd.read_csv('admissions_med.csv')\n",
    "imaging = pd.read_csv('img.csv')"
   ]
  },
  {
   "cell_type": "code",
   "execution_count": 3,
   "metadata": {},
   "outputs": [
    {
     "name": "stdout",
     "output_type": "stream",
     "text": [
      "<class 'pandas.core.frame.DataFrame'>\n",
      "RangeIndex: 1195 entries, 0 to 1194\n",
      "Data columns (total 10 columns):\n",
      " #   Column                Non-Null Count  Dtype  \n",
      "---  ------                --------------  -----  \n",
      " 0   ID                    1195 non-null   int64  \n",
      " 1   ADMISSION.DATE        1195 non-null   object \n",
      " 2   ADMISSION.TIME        1195 non-null   object \n",
      " 3   DISCHARGE.DATE        1195 non-null   object \n",
      " 4   DISCHARGE.TIME        1053 non-null   object \n",
      " 5   DEPARTMENT            1195 non-null   object \n",
      " 6   GENDER                1195 non-null   object \n",
      " 7   AGE                   1129 non-null   float64\n",
      " 8   MAIN.DIAGNOSIS.ICD10  1195 non-null   object \n",
      " 9   MAIN.DIAGNOSIS.NAME   1107 non-null   object \n",
      "dtypes: float64(1), int64(1), object(8)\n",
      "memory usage: 93.5+ KB\n"
     ]
    }
   ],
   "source": [
    "admissions_surg.info()#diff col names"
   ]
  },
  {
   "cell_type": "code",
   "execution_count": 4,
   "metadata": {},
   "outputs": [
    {
     "name": "stdout",
     "output_type": "stream",
     "text": [
      "<class 'pandas.core.frame.DataFrame'>\n",
      "RangeIndex: 2305 entries, 0 to 2304\n",
      "Data columns (total 10 columns):\n",
      " #   Column                Non-Null Count  Dtype  \n",
      "---  ------                --------------  -----  \n",
      " 0   ID                    2305 non-null   int64  \n",
      " 1   admission_date        2305 non-null   object \n",
      " 2   admission_time        2305 non-null   object \n",
      " 3   discharge_date        2305 non-null   object \n",
      " 4   discharge_time        2047 non-null   object \n",
      " 5   department            2305 non-null   object \n",
      " 6   gender                2305 non-null   object \n",
      " 7   age                   2178 non-null   float64\n",
      " 8   main_diagnosis_icd10  2305 non-null   object \n",
      " 9   main_diagnosis_name   2113 non-null   object \n",
      "dtypes: float64(1), int64(1), object(8)\n",
      "memory usage: 180.2+ KB\n"
     ]
    }
   ],
   "source": [
    "admissions_med.info()"
   ]
  },
  {
   "cell_type": "code",
   "execution_count": 5,
   "metadata": {},
   "outputs": [
    {
     "name": "stdout",
     "output_type": "stream",
     "text": [
      "<class 'pandas.core.frame.DataFrame'>\n",
      "RangeIndex: 5000 entries, 0 to 4999\n",
      "Data columns (total 7 columns):\n",
      " #   Column             Non-Null Count  Dtype \n",
      "---  ------             --------------  ----- \n",
      " 0   ID                 5000 non-null   int64 \n",
      " 1   test_name          5000 non-null   object\n",
      " 2   ordered_date_time  3302 non-null   object\n",
      " 3   performed_date     5000 non-null   object\n",
      " 4   performed_time     5000 non-null   object\n",
      " 5   technician_name    5000 non-null   object\n",
      " 6   brief_report       5000 non-null   object\n",
      "dtypes: int64(1), object(6)\n",
      "memory usage: 273.6+ KB\n"
     ]
    }
   ],
   "source": [
    "imaging.info()"
   ]
  },
  {
   "cell_type": "code",
   "execution_count": 6,
   "metadata": {},
   "outputs": [],
   "source": [
    "admissions_surg = (admissions_surg.rename({'ADMISSION.DATE':'admission_date',\n",
    "                                           'ADMISSION.TIME':'admission_time',\n",
    "                                           'DISCHARGE.DATE':'discharge_date',\n",
    "                                           'DISCHARGE.TIME':'discharge_time',\n",
    "                                           'DEPARTMENT':'department',\n",
    "                                           'GENDER':'gender',\n",
    "                                           'AGE':'age',\n",
    "                                           'MAIN.DIAGNOSIS.ICD10':'main_diagnosis_icd10',\n",
    "                                          'MAIN.DIAGNOSIS.NAME':'main_diagnosis_name'}, axis='columns'))"
   ]
  },
  {
   "cell_type": "code",
   "execution_count": 53,
   "metadata": {},
   "outputs": [
    {
     "name": "stdout",
     "output_type": "stream",
     "text": [
      "<class 'pandas.core.frame.DataFrame'>\n",
      "RangeIndex: 3500 entries, 0 to 3499\n",
      "Data columns (total 10 columns):\n",
      " #   Column                Non-Null Count  Dtype  \n",
      "---  ------                --------------  -----  \n",
      " 0   ID                    3500 non-null   int64  \n",
      " 1   admission_date        3500 non-null   object \n",
      " 2   admission_time        3500 non-null   object \n",
      " 3   discharge_date        3500 non-null   object \n",
      " 4   discharge_time        3100 non-null   object \n",
      " 5   department            3500 non-null   object \n",
      " 6   gender                3500 non-null   object \n",
      " 7   age                   3307 non-null   float64\n",
      " 8   main_diagnosis_icd10  3500 non-null   object \n",
      " 9   main_diagnosis_name   3220 non-null   object \n",
      "dtypes: float64(1), int64(1), object(8)\n",
      "memory usage: 273.6+ KB\n"
     ]
    }
   ],
   "source": [
    "admissions_surg.append(admissions_med, ignore_index=True).info()"
   ]
  },
  {
   "cell_type": "code",
   "execution_count": 208,
   "metadata": {},
   "outputs": [],
   "source": [
    "admissions_img = (imaging.merge(admissions_surg.append(admissions_med, ignore_index=True), \n",
    "                                how='left', left_on='ID', right_on='ID'))"
   ]
  },
  {
   "cell_type": "code",
   "execution_count": 56,
   "metadata": {},
   "outputs": [
    {
     "data": {
      "text/html": [
       "<div>\n",
       "<style scoped>\n",
       "    .dataframe tbody tr th:only-of-type {\n",
       "        vertical-align: middle;\n",
       "    }\n",
       "\n",
       "    .dataframe tbody tr th {\n",
       "        vertical-align: top;\n",
       "    }\n",
       "\n",
       "    .dataframe thead th {\n",
       "        text-align: right;\n",
       "    }\n",
       "</style>\n",
       "<table border=\"1\" class=\"dataframe\">\n",
       "  <thead>\n",
       "    <tr style=\"text-align: right;\">\n",
       "      <th></th>\n",
       "      <th>ID</th>\n",
       "      <th>test_name</th>\n",
       "      <th>ordered_date_time</th>\n",
       "      <th>performed_date</th>\n",
       "      <th>performed_time</th>\n",
       "      <th>technician_name</th>\n",
       "      <th>brief_report</th>\n",
       "      <th>admission_date</th>\n",
       "      <th>admission_time</th>\n",
       "      <th>discharge_date</th>\n",
       "      <th>discharge_time</th>\n",
       "      <th>department</th>\n",
       "      <th>gender</th>\n",
       "      <th>age</th>\n",
       "      <th>main_diagnosis_icd10</th>\n",
       "      <th>main_diagnosis_name</th>\n",
       "    </tr>\n",
       "  </thead>\n",
       "  <tbody>\n",
       "    <tr>\n",
       "      <th>0</th>\n",
       "      <td>1064</td>\n",
       "      <td>US</td>\n",
       "      <td>NaN</td>\n",
       "      <td>1985-12-17</td>\n",
       "      <td>10:27</td>\n",
       "      <td>Trevon Hopson</td>\n",
       "      <td>No significant abnormality</td>\n",
       "      <td>1985-10-19</td>\n",
       "      <td>04:27</td>\n",
       "      <td>1986-01-01</td>\n",
       "      <td>NaN</td>\n",
       "      <td>General Internal Medicine</td>\n",
       "      <td>M</td>\n",
       "      <td>63.0</td>\n",
       "      <td>N830</td>\n",
       "      <td>Ovarian cyst</td>\n",
       "    </tr>\n",
       "    <tr>\n",
       "      <th>1</th>\n",
       "      <td>1064</td>\n",
       "      <td>US PELVIS</td>\n",
       "      <td>NaN</td>\n",
       "      <td>1985-12-02</td>\n",
       "      <td>11:40</td>\n",
       "      <td>Claire Melko</td>\n",
       "      <td>Indication: normal</td>\n",
       "      <td>1985-10-19</td>\n",
       "      <td>04:27</td>\n",
       "      <td>1986-01-01</td>\n",
       "      <td>NaN</td>\n",
       "      <td>General Internal Medicine</td>\n",
       "      <td>M</td>\n",
       "      <td>63.0</td>\n",
       "      <td>N830</td>\n",
       "      <td>Ovarian cyst</td>\n",
       "    </tr>\n",
       "    <tr>\n",
       "      <th>2</th>\n",
       "      <td>1066</td>\n",
       "      <td>Abdomen CT</td>\n",
       "      <td>NaN</td>\n",
       "      <td>1990-08-05</td>\n",
       "      <td>12:26</td>\n",
       "      <td>Ladonna Mcallister</td>\n",
       "      <td>Indication: Normal</td>\n",
       "      <td>1990-06-26</td>\n",
       "      <td>21:06</td>\n",
       "      <td>1990-09-03</td>\n",
       "      <td>21:03</td>\n",
       "      <td>General Internal Medicine</td>\n",
       "      <td>F</td>\n",
       "      <td>63.0</td>\n",
       "      <td>N410</td>\n",
       "      <td>Inflammatory conditions of male genital organs</td>\n",
       "    </tr>\n",
       "    <tr>\n",
       "      <th>3</th>\n",
       "      <td>1068</td>\n",
       "      <td>US</td>\n",
       "      <td>NaN</td>\n",
       "      <td>1998-03-24</td>\n",
       "      <td>16:15</td>\n",
       "      <td>claire melko</td>\n",
       "      <td>Indication: Normal</td>\n",
       "      <td>1998-02-01</td>\n",
       "      <td>07:02</td>\n",
       "      <td>1998-03-31</td>\n",
       "      <td>07:17</td>\n",
       "      <td>General Surgery</td>\n",
       "      <td>M</td>\n",
       "      <td>NaN</td>\n",
       "      <td>E0800</td>\n",
       "      <td>Diabetes mellitus with complications</td>\n",
       "    </tr>\n",
       "    <tr>\n",
       "      <th>4</th>\n",
       "      <td>1074</td>\n",
       "      <td>CT neck + head</td>\n",
       "      <td>NaN</td>\n",
       "      <td>1994-11-05</td>\n",
       "      <td>01:36</td>\n",
       "      <td>Lorena Burciaga</td>\n",
       "      <td>Normal</td>\n",
       "      <td>1994-06-13</td>\n",
       "      <td>06:36</td>\n",
       "      <td>1994-12-22</td>\n",
       "      <td>07:21</td>\n",
       "      <td>General Internal Medicine</td>\n",
       "      <td>F</td>\n",
       "      <td>51.0</td>\n",
       "      <td>K640</td>\n",
       "      <td>Hemorrhoids</td>\n",
       "    </tr>\n",
       "  </tbody>\n",
       "</table>\n",
       "</div>"
      ],
      "text/plain": [
       "     ID       test_name ordered_date_time performed_date performed_time  \\\n",
       "0  1064              US               NaN     1985-12-17          10:27   \n",
       "1  1064       US PELVIS               NaN     1985-12-02          11:40   \n",
       "2  1066      Abdomen CT               NaN     1990-08-05          12:26   \n",
       "3  1068              US               NaN     1998-03-24          16:15   \n",
       "4  1074  CT neck + head               NaN     1994-11-05          01:36   \n",
       "\n",
       "      technician_name                brief_report admission_date  \\\n",
       "0       Trevon Hopson  No significant abnormality     1985-10-19   \n",
       "1        Claire Melko          Indication: normal     1985-10-19   \n",
       "2  Ladonna Mcallister          Indication: Normal     1990-06-26   \n",
       "3        claire melko          Indication: Normal     1998-02-01   \n",
       "4     Lorena Burciaga                      Normal     1994-06-13   \n",
       "\n",
       "  admission_time discharge_date discharge_time                 department  \\\n",
       "0          04:27     1986-01-01            NaN  General Internal Medicine   \n",
       "1          04:27     1986-01-01            NaN  General Internal Medicine   \n",
       "2          21:06     1990-09-03          21:03  General Internal Medicine   \n",
       "3          07:02     1998-03-31          07:17            General Surgery   \n",
       "4          06:36     1994-12-22          07:21  General Internal Medicine   \n",
       "\n",
       "  gender   age main_diagnosis_icd10  \\\n",
       "0      M  63.0                 N830   \n",
       "1      M  63.0                 N830   \n",
       "2      F  63.0                 N410   \n",
       "3      M   NaN                E0800   \n",
       "4      F  51.0                 K640   \n",
       "\n",
       "                              main_diagnosis_name  \n",
       "0                                    Ovarian cyst  \n",
       "1                                    Ovarian cyst  \n",
       "2  Inflammatory conditions of male genital organs  \n",
       "3            Diabetes mellitus with complications  \n",
       "4                                     Hemorrhoids  "
      ]
     },
     "execution_count": 56,
     "metadata": {},
     "output_type": "execute_result"
    }
   ],
   "source": [
    "admissions_img.head()"
   ]
  },
  {
   "cell_type": "code",
   "execution_count": 211,
   "metadata": {},
   "outputs": [],
   "source": [
    "admissions_img['admission_date'] = pd.to_datetime(admissions_img['admission_date'])\n",
    "admissions_img['discharge_date'] = pd.to_datetime(admissions_img['discharge_date'])"
   ]
  },
  {
   "cell_type": "code",
   "execution_count": 212,
   "metadata": {
    "scrolled": true
   },
   "outputs": [],
   "source": [
    "admissions_img['length_of_stay'] = admissions_img['discharge_date']-admissions_img['admission_date']"
   ]
  },
  {
   "cell_type": "code",
   "execution_count": 213,
   "metadata": {},
   "outputs": [],
   "source": [
    "admissions_img['length_of_stay'] = admissions_img['length_of_stay'].dt.days"
   ]
  },
  {
   "cell_type": "code",
   "execution_count": 214,
   "metadata": {},
   "outputs": [
    {
     "data": {
      "text/plain": [
       "department\n",
       "Addiction Services           100.519810\n",
       "General Internal Medicine     98.301965\n",
       "General Surgery              100.968137\n",
       "Obstetrics                   104.809816\n",
       "Oncology                     102.879213\n",
       "Palliative Care               96.324528\n",
       "Name: length_of_stay, dtype: float64"
      ]
     },
     "execution_count": 214,
     "metadata": {},
     "output_type": "execute_result"
    }
   ],
   "source": [
    "admissions_img.groupby('department').mean()['length_of_stay']"
   ]
  },
  {
   "cell_type": "code",
   "execution_count": 81,
   "metadata": {},
   "outputs": [
    {
     "data": {
      "text/plain": [
       "Index(['ID', 'test_name', 'ordered_date_time', 'performed_date',\n",
       "       'performed_time', 'technician_name', 'brief_report'],\n",
       "      dtype='object')"
      ]
     },
     "execution_count": 81,
     "metadata": {},
     "output_type": "execute_result"
    }
   ],
   "source": [
    "imaging.columns"
   ]
  },
  {
   "cell_type": "code",
   "execution_count": 84,
   "metadata": {},
   "outputs": [],
   "source": [
    "imaging['performed_date'] = pd.to_datetime(imaging['performed_date'])"
   ]
  },
  {
   "cell_type": "code",
   "execution_count": 101,
   "metadata": {},
   "outputs": [],
   "source": [
    "q3_df = imaging.groupby('test_name').agg({'performed_date': [np.min]})"
   ]
  },
  {
   "cell_type": "code",
   "execution_count": 106,
   "metadata": {},
   "outputs": [],
   "source": [
    "q4_df = admissions_img.dropna(thresh = 2)"
   ]
  },
  {
   "cell_type": "code",
   "execution_count": 107,
   "metadata": {},
   "outputs": [],
   "source": [
    "percent_missing = q4_df.isnull().sum() * 100 / len(q4_df)"
   ]
  },
  {
   "cell_type": "code",
   "execution_count": 110,
   "metadata": {},
   "outputs": [
    {
     "data": {
      "text/plain": [
       "ordered_date_time      33.96\n",
       "discharge_time         11.48\n",
       "age                     5.98\n",
       "main_diagnosis_name     8.18\n",
       "dtype: float64"
      ]
     },
     "execution_count": 110,
     "metadata": {},
     "output_type": "execute_result"
    }
   ],
   "source": [
    "percent_missing[percent_missing > 0]"
   ]
  },
  {
   "cell_type": "code",
   "execution_count": 121,
   "metadata": {},
   "outputs": [
    {
     "data": {
      "text/plain": [
       "ID                    0.00\n",
       "test_name             0.00\n",
       "ordered_date_time    33.96\n",
       "performed_date        0.00\n",
       "performed_time        0.00\n",
       "technician_name       0.00\n",
       "brief_report          0.00\n",
       "dtype: float64"
      ]
     },
     "execution_count": 121,
     "metadata": {},
     "output_type": "execute_result"
    }
   ],
   "source": [
    "imaging.isnull().sum()*100/len(imaging)\n",
    "#no missing test_name or technician_name"
   ]
  },
  {
   "cell_type": "code",
   "execution_count": 127,
   "metadata": {},
   "outputs": [],
   "source": [
    "admissions_img['age'] = admissions_img['age'].fillna(admissions_img['age'].mean())"
   ]
  },
  {
   "cell_type": "code",
   "execution_count": 128,
   "metadata": {},
   "outputs": [],
   "source": [
    "q5_df = admissions_img"
   ]
  },
  {
   "cell_type": "code",
   "execution_count": 130,
   "metadata": {},
   "outputs": [
    {
     "name": "stdout",
     "output_type": "stream",
     "text": [
      "The average age for the q5_df is 56.873431184854205 yrs.\n"
     ]
    }
   ],
   "source": [
    "print('The average age for the q5_df is {} yrs.'.format(q5_df['age'].mean()))"
   ]
  },
  {
   "cell_type": "markdown",
   "metadata": {},
   "source": [
    "## Q6(a)"
   ]
  },
  {
   "cell_type": "code",
   "execution_count": 201,
   "metadata": {},
   "outputs": [],
   "source": [
    "img_mapper = pd.DataFrame(imaging['test_name'].value_counts().sort_values(ascending=False)).reset_index()"
   ]
  },
  {
   "cell_type": "code",
   "execution_count": 202,
   "metadata": {
    "scrolled": true
   },
   "outputs": [],
   "source": [
    "img_mapper = img_mapper.rename({'index':'raw_test_name','test_name':'frequency'}, axis= 'columns')"
   ]
  },
  {
   "cell_type": "markdown",
   "metadata": {},
   "source": [
    "## Q6(b)"
   ]
  },
  {
   "cell_type": "code",
   "execution_count": 203,
   "metadata": {
    "scrolled": true
   },
   "outputs": [],
   "source": [
    "img_mapper['mapped_test'] = 'Others'\n",
    "img_mapper.loc[img_mapper['raw_test_name'].str.contains('US|Ultrasound', case=False), 'mapped_test'] = 'US'\n",
    "img_mapper.loc[img_mapper['raw_test_name'].str.contains('CT', case=False), 'mapped_test'] = 'CT'"
   ]
  },
  {
   "cell_type": "markdown",
   "metadata": {},
   "source": [
    "## Q6(c)"
   ]
  },
  {
   "cell_type": "code",
   "execution_count": 205,
   "metadata": {},
   "outputs": [],
   "source": [
    "img_mapper['mapped_bodypart'] = 'Others'\n",
    "img_mapper.loc[img_mapper['raw_test_name'].str.contains('neck|head', case=False), 'mapped_bodypart'] = 'Neck/Head'\n",
    "img_mapper.loc[img_mapper['raw_test_name'].str.contains('abdomen|pelvis', case=False), 'mapped_bodypart'] = 'Abdomen/Pelvis'"
   ]
  },
  {
   "cell_type": "code",
   "execution_count": 206,
   "metadata": {
    "collapsed": true
   },
   "outputs": [
    {
     "data": {
      "text/html": [
       "<div>\n",
       "<style scoped>\n",
       "    .dataframe tbody tr th:only-of-type {\n",
       "        vertical-align: middle;\n",
       "    }\n",
       "\n",
       "    .dataframe tbody tr th {\n",
       "        vertical-align: top;\n",
       "    }\n",
       "\n",
       "    .dataframe thead th {\n",
       "        text-align: right;\n",
       "    }\n",
       "</style>\n",
       "<table border=\"1\" class=\"dataframe\">\n",
       "  <thead>\n",
       "    <tr style=\"text-align: right;\">\n",
       "      <th></th>\n",
       "      <th>raw_test_name</th>\n",
       "      <th>frequency</th>\n",
       "      <th>mapped_test</th>\n",
       "      <th>mapped_bodypart</th>\n",
       "    </tr>\n",
       "  </thead>\n",
       "  <tbody>\n",
       "    <tr>\n",
       "      <th>0</th>\n",
       "      <td>US</td>\n",
       "      <td>680</td>\n",
       "      <td>US</td>\n",
       "      <td>Others</td>\n",
       "    </tr>\n",
       "    <tr>\n",
       "      <th>1</th>\n",
       "      <td>CT</td>\n",
       "      <td>511</td>\n",
       "      <td>CT</td>\n",
       "      <td>Others</td>\n",
       "    </tr>\n",
       "    <tr>\n",
       "      <th>2</th>\n",
       "      <td>Ultrasound</td>\n",
       "      <td>441</td>\n",
       "      <td>US</td>\n",
       "      <td>Others</td>\n",
       "    </tr>\n",
       "    <tr>\n",
       "      <th>3</th>\n",
       "      <td>ct neck and head</td>\n",
       "      <td>408</td>\n",
       "      <td>CT</td>\n",
       "      <td>Neck/Head</td>\n",
       "    </tr>\n",
       "    <tr>\n",
       "      <th>4</th>\n",
       "      <td>US ABDOMEN</td>\n",
       "      <td>396</td>\n",
       "      <td>US</td>\n",
       "      <td>Abdomen/Pelvis</td>\n",
       "    </tr>\n",
       "    <tr>\n",
       "      <th>5</th>\n",
       "      <td>CT neck + head</td>\n",
       "      <td>385</td>\n",
       "      <td>CT</td>\n",
       "      <td>Neck/Head</td>\n",
       "    </tr>\n",
       "    <tr>\n",
       "      <th>6</th>\n",
       "      <td>ABDOMEN/PELVIS US</td>\n",
       "      <td>313</td>\n",
       "      <td>US</td>\n",
       "      <td>Abdomen/Pelvis</td>\n",
       "    </tr>\n",
       "    <tr>\n",
       "      <th>7</th>\n",
       "      <td>CT - ABDOMEN</td>\n",
       "      <td>310</td>\n",
       "      <td>CT</td>\n",
       "      <td>Abdomen/Pelvis</td>\n",
       "    </tr>\n",
       "    <tr>\n",
       "      <th>8</th>\n",
       "      <td>NECK AND HEAD CT</td>\n",
       "      <td>248</td>\n",
       "      <td>CT</td>\n",
       "      <td>Neck/Head</td>\n",
       "    </tr>\n",
       "    <tr>\n",
       "      <th>9</th>\n",
       "      <td>Doppler Ultrasound</td>\n",
       "      <td>233</td>\n",
       "      <td>US</td>\n",
       "      <td>Others</td>\n",
       "    </tr>\n",
       "    <tr>\n",
       "      <th>10</th>\n",
       "      <td>Abdomen CT</td>\n",
       "      <td>157</td>\n",
       "      <td>CT</td>\n",
       "      <td>Abdomen/Pelvis</td>\n",
       "    </tr>\n",
       "    <tr>\n",
       "      <th>11</th>\n",
       "      <td>ct neck</td>\n",
       "      <td>146</td>\n",
       "      <td>CT</td>\n",
       "      <td>Neck/Head</td>\n",
       "    </tr>\n",
       "    <tr>\n",
       "      <th>12</th>\n",
       "      <td>RT LEG DOPPLER</td>\n",
       "      <td>133</td>\n",
       "      <td>Others</td>\n",
       "      <td>Others</td>\n",
       "    </tr>\n",
       "    <tr>\n",
       "      <th>13</th>\n",
       "      <td>DOPPLER US</td>\n",
       "      <td>115</td>\n",
       "      <td>US</td>\n",
       "      <td>Others</td>\n",
       "    </tr>\n",
       "    <tr>\n",
       "      <th>14</th>\n",
       "      <td>LT LEG DOPPLER</td>\n",
       "      <td>107</td>\n",
       "      <td>Others</td>\n",
       "      <td>Others</td>\n",
       "    </tr>\n",
       "    <tr>\n",
       "      <th>15</th>\n",
       "      <td>DOP LEG VEIN</td>\n",
       "      <td>101</td>\n",
       "      <td>Others</td>\n",
       "      <td>Others</td>\n",
       "    </tr>\n",
       "    <tr>\n",
       "      <th>16</th>\n",
       "      <td>THORAX/ABDOMEN CT</td>\n",
       "      <td>100</td>\n",
       "      <td>CT</td>\n",
       "      <td>Abdomen/Pelvis</td>\n",
       "    </tr>\n",
       "    <tr>\n",
       "      <th>17</th>\n",
       "      <td>CT - Femur</td>\n",
       "      <td>89</td>\n",
       "      <td>CT</td>\n",
       "      <td>Others</td>\n",
       "    </tr>\n",
       "    <tr>\n",
       "      <th>18</th>\n",
       "      <td>Head ct</td>\n",
       "      <td>82</td>\n",
       "      <td>CT</td>\n",
       "      <td>Neck/Head</td>\n",
       "    </tr>\n",
       "    <tr>\n",
       "      <th>19</th>\n",
       "      <td>US PELVIS</td>\n",
       "      <td>45</td>\n",
       "      <td>US</td>\n",
       "      <td>Abdomen/Pelvis</td>\n",
       "    </tr>\n",
       "  </tbody>\n",
       "</table>\n",
       "</div>"
      ],
      "text/plain": [
       "         raw_test_name  frequency mapped_test mapped_bodypart\n",
       "0                   US        680          US          Others\n",
       "1                   CT        511          CT          Others\n",
       "2           Ultrasound        441          US          Others\n",
       "3     ct neck and head        408          CT       Neck/Head\n",
       "4           US ABDOMEN        396          US  Abdomen/Pelvis\n",
       "5       CT neck + head        385          CT       Neck/Head\n",
       "6    ABDOMEN/PELVIS US        313          US  Abdomen/Pelvis\n",
       "7         CT - ABDOMEN        310          CT  Abdomen/Pelvis\n",
       "8     NECK AND HEAD CT        248          CT       Neck/Head\n",
       "9   Doppler Ultrasound        233          US          Others\n",
       "10          Abdomen CT        157          CT  Abdomen/Pelvis\n",
       "11             ct neck        146          CT       Neck/Head\n",
       "12      RT LEG DOPPLER        133      Others          Others\n",
       "13          DOPPLER US        115          US          Others\n",
       "14      LT LEG DOPPLER        107      Others          Others\n",
       "15        DOP LEG VEIN        101      Others          Others\n",
       "16   THORAX/ABDOMEN CT        100          CT  Abdomen/Pelvis\n",
       "17          CT - Femur         89          CT          Others\n",
       "18             Head ct         82          CT       Neck/Head\n",
       "19           US PELVIS         45          US  Abdomen/Pelvis"
      ]
     },
     "execution_count": 206,
     "metadata": {},
     "output_type": "execute_result"
    }
   ],
   "source": [
    "img_mapper"
   ]
  },
  {
   "cell_type": "markdown",
   "metadata": {},
   "source": [
    "## Q7"
   ]
  },
  {
   "cell_type": "code",
   "execution_count": null,
   "metadata": {},
   "outputs": [],
   "source": []
  },
  {
   "cell_type": "markdown",
   "metadata": {},
   "source": [
    "# Q8"
   ]
  },
  {
   "cell_type": "code",
   "execution_count": 215,
   "metadata": {},
   "outputs": [],
   "source": [
    "import matplotlib.pyplot as plt"
   ]
  },
  {
   "cell_type": "code",
   "execution_count": 228,
   "metadata": {},
   "outputs": [
    {
     "data": {
      "text/plain": [
       "<matplotlib.axes._subplots.AxesSubplot at 0x123b3efd0>"
      ]
     },
     "execution_count": 228,
     "metadata": {},
     "output_type": "execute_result"
    },
    {
     "data": {
      "image/png": "[encoded data removed]",
      "text/plain": [
       "<Figure size 864x864 with 1 Axes>"
      ]
     },
     "metadata": {
      "needs_background": "light"
     },
     "output_type": "display_data"
    }
   ],
   "source": [
    "fig, ax = plt.subplots(figsize=(12,12))\n",
    "admissions_img.boxplot(by='department', column = 'length_of_stay', grid=False, ax=ax)"
   ]
  },
  {
   "cell_type": "markdown",
   "metadata": {},
   "source": [
    "## Q9"
   ]
  },
  {
   "cell_type": "code",
   "execution_count": 263,
   "metadata": {},
   "outputs": [],
   "source": [
    "from sklearn.linear_model import LinearRegression\n",
    "from sklearn.metrics import mean_squared_error, r2_score"
   ]
  },
  {
   "cell_type": "code",
   "execution_count": 259,
   "metadata": {},
   "outputs": [],
   "source": [
    "admissions_img['age'] = admissions_img['age'].fillna(admissions_img['age'].mean())"
   ]
  },
  {
   "cell_type": "code",
   "execution_count": 260,
   "metadata": {},
   "outputs": [],
   "source": [
    "y = admissions_img['length_of_stay']"
   ]
  },
  {
   "cell_type": "code",
   "execution_count": 267,
   "metadata": {},
   "outputs": [],
   "source": [
    "X = pd.get_dummies(admissions_img['department'])\n",
    "X['age'] = admissions_img['age']\n",
    "X['gender'] = admissions_img['gender'].replace({'F':1,'M':0})"
   ]
  },
  {
   "cell_type": "code",
   "execution_count": 271,
   "metadata": {},
   "outputs": [],
   "source": [
    "X_train = X[:4000]\n",
    "X_test = X[-1000:]\n",
    "y_train = y[:4000]\n",
    "y_test = y[-1000:]"
   ]
  },
  {
   "cell_type": "code",
   "execution_count": 268,
   "metadata": {},
   "outputs": [],
   "source": [
    "lr = LinearRegression()"
   ]
  },
  {
   "cell_type": "code",
   "execution_count": 272,
   "metadata": {},
   "outputs": [
    {
     "data": {
      "text/plain": [
       "LinearRegression(copy_X=True, fit_intercept=True, n_jobs=None, normalize=False)"
      ]
     },
     "execution_count": 272,
     "metadata": {},
     "output_type": "execute_result"
    }
   ],
   "source": [
    "lr.fit(X_train,y_train)"
   ]
  },
  {
   "cell_type": "code",
   "execution_count": 273,
   "metadata": {},
   "outputs": [],
   "source": [
    "y_pred = lr.predict(X_test)"
   ]
  },
  {
   "cell_type": "code",
   "execution_count": 276,
   "metadata": {},
   "outputs": [
    {
     "name": "stdout",
     "output_type": "stream",
     "text": [
      "Coefficients: \n",
      " [ 1.83942789 -3.35255598  1.26845565  2.89998791  0.61761521 -3.27293068\n",
      "  0.00546781  2.14006798]\n",
      "Mean squared error: 3043.91\n",
      "Coefficient of determination: -0.00\n"
     ]
    }
   ],
   "source": [
    "print('Coefficients: \\n', lr.coef_)\n",
    "print('Mean squared error: %.2f'\n",
    "      % mean_squared_error(y_test, y_pred))\n",
    "print('Coefficient of determination: %.2f'\n",
    "      % r2_score(y_test, y_pred))"
   ]
  },
  {
   "cell_type": "code",
   "execution_count": 277,
   "metadata": {},
   "outputs": [
    {
     "data": {
      "text/html": [
       "<div>\n",
       "<style scoped>\n",
       "    .dataframe tbody tr th:only-of-type {\n",
       "        vertical-align: middle;\n",
       "    }\n",
       "\n",
       "    .dataframe tbody tr th {\n",
       "        vertical-align: top;\n",
       "    }\n",
       "\n",
       "    .dataframe thead th {\n",
       "        text-align: right;\n",
       "    }\n",
       "</style>\n",
       "<table border=\"1\" class=\"dataframe\">\n",
       "  <thead>\n",
       "    <tr style=\"text-align: right;\">\n",
       "      <th></th>\n",
       "      <th>Addiction Services</th>\n",
       "      <th>General Internal Medicine</th>\n",
       "      <th>General Surgery</th>\n",
       "      <th>Obstetrics</th>\n",
       "      <th>Oncology</th>\n",
       "      <th>Palliative Care</th>\n",
       "      <th>age</th>\n",
       "      <th>gender</th>\n",
       "    </tr>\n",
       "  </thead>\n",
       "  <tbody>\n",
       "    <tr>\n",
       "      <th>0</th>\n",
       "      <td>0</td>\n",
       "      <td>1</td>\n",
       "      <td>0</td>\n",
       "      <td>0</td>\n",
       "      <td>0</td>\n",
       "      <td>0</td>\n",
       "      <td>63.000000</td>\n",
       "      <td>0</td>\n",
       "    </tr>\n",
       "    <tr>\n",
       "      <th>1</th>\n",
       "      <td>0</td>\n",
       "      <td>1</td>\n",
       "      <td>0</td>\n",
       "      <td>0</td>\n",
       "      <td>0</td>\n",
       "      <td>0</td>\n",
       "      <td>63.000000</td>\n",
       "      <td>0</td>\n",
       "    </tr>\n",
       "    <tr>\n",
       "      <th>2</th>\n",
       "      <td>0</td>\n",
       "      <td>1</td>\n",
       "      <td>0</td>\n",
       "      <td>0</td>\n",
       "      <td>0</td>\n",
       "      <td>0</td>\n",
       "      <td>63.000000</td>\n",
       "      <td>1</td>\n",
       "    </tr>\n",
       "    <tr>\n",
       "      <th>3</th>\n",
       "      <td>0</td>\n",
       "      <td>0</td>\n",
       "      <td>1</td>\n",
       "      <td>0</td>\n",
       "      <td>0</td>\n",
       "      <td>0</td>\n",
       "      <td>56.873431</td>\n",
       "      <td>0</td>\n",
       "    </tr>\n",
       "    <tr>\n",
       "      <th>4</th>\n",
       "      <td>0</td>\n",
       "      <td>1</td>\n",
       "      <td>0</td>\n",
       "      <td>0</td>\n",
       "      <td>0</td>\n",
       "      <td>0</td>\n",
       "      <td>51.000000</td>\n",
       "      <td>1</td>\n",
       "    </tr>\n",
       "    <tr>\n",
       "      <th>...</th>\n",
       "      <td>...</td>\n",
       "      <td>...</td>\n",
       "      <td>...</td>\n",
       "      <td>...</td>\n",
       "      <td>...</td>\n",
       "      <td>...</td>\n",
       "      <td>...</td>\n",
       "      <td>...</td>\n",
       "    </tr>\n",
       "    <tr>\n",
       "      <th>4995</th>\n",
       "      <td>0</td>\n",
       "      <td>1</td>\n",
       "      <td>0</td>\n",
       "      <td>0</td>\n",
       "      <td>0</td>\n",
       "      <td>0</td>\n",
       "      <td>95.000000</td>\n",
       "      <td>0</td>\n",
       "    </tr>\n",
       "    <tr>\n",
       "      <th>4996</th>\n",
       "      <td>0</td>\n",
       "      <td>1</td>\n",
       "      <td>0</td>\n",
       "      <td>0</td>\n",
       "      <td>0</td>\n",
       "      <td>0</td>\n",
       "      <td>95.000000</td>\n",
       "      <td>0</td>\n",
       "    </tr>\n",
       "    <tr>\n",
       "      <th>4997</th>\n",
       "      <td>0</td>\n",
       "      <td>0</td>\n",
       "      <td>0</td>\n",
       "      <td>0</td>\n",
       "      <td>0</td>\n",
       "      <td>1</td>\n",
       "      <td>100.000000</td>\n",
       "      <td>1</td>\n",
       "    </tr>\n",
       "    <tr>\n",
       "      <th>4998</th>\n",
       "      <td>0</td>\n",
       "      <td>0</td>\n",
       "      <td>0</td>\n",
       "      <td>0</td>\n",
       "      <td>0</td>\n",
       "      <td>1</td>\n",
       "      <td>100.000000</td>\n",
       "      <td>1</td>\n",
       "    </tr>\n",
       "    <tr>\n",
       "      <th>4999</th>\n",
       "      <td>0</td>\n",
       "      <td>0</td>\n",
       "      <td>0</td>\n",
       "      <td>0</td>\n",
       "      <td>0</td>\n",
       "      <td>1</td>\n",
       "      <td>100.000000</td>\n",
       "      <td>1</td>\n",
       "    </tr>\n",
       "  </tbody>\n",
       "</table>\n",
       "<p>5000 rows × 8 columns</p>\n",
       "</div>"
      ],
      "text/plain": [
       "      Addiction Services  General Internal Medicine  General Surgery  \\\n",
       "0                      0                          1                0   \n",
       "1                      0                          1                0   \n",
       "2                      0                          1                0   \n",
       "3                      0                          0                1   \n",
       "4                      0                          1                0   \n",
       "...                  ...                        ...              ...   \n",
       "4995                   0                          1                0   \n",
       "4996                   0                          1                0   \n",
       "4997                   0                          0                0   \n",
       "4998                   0                          0                0   \n",
       "4999                   0                          0                0   \n",
       "\n",
       "      Obstetrics  Oncology  Palliative Care         age  gender  \n",
       "0              0         0                0   63.000000       0  \n",
       "1              0         0                0   63.000000       0  \n",
       "2              0         0                0   63.000000       1  \n",
       "3              0         0                0   56.873431       0  \n",
       "4              0         0                0   51.000000       1  \n",
       "...          ...       ...              ...         ...     ...  \n",
       "4995           0         0                0   95.000000       0  \n",
       "4996           0         0                0   95.000000       0  \n",
       "4997           0         0                1  100.000000       1  \n",
       "4998           0         0                1  100.000000       1  \n",
       "4999           0         0                1  100.000000       1  \n",
       "\n",
       "[5000 rows x 8 columns]"
      ]
     },
     "execution_count": 277,
     "metadata": {},
     "output_type": "execute_result"
    }
   ],
   "source": [
    "X"
   ]
  },
  {
   "cell_type": "code",
   "execution_count": null,
   "metadata": {},
   "outputs": [],
   "source": []
  }
 ],
 "metadata": {
  "kernelspec": {
   "display_name": "Python 3",
   "language": "python",
   "name": "python3"
  },
  "language_info": {
   "codemirror_mode": {
    "name": "ipython",
    "version": 3
   },
   "file_extension": ".py",
   "mimetype": "text/x-python",
   "name": "python",
   "nbconvert_exporter": "python",
   "pygments_lexer": "ipython3",
   "version": "3.7.6"
  }
 },
 "nbformat": 4,
 "nbformat_minor": 4
}
